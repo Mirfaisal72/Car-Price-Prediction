{
 "cells": [
  {
   "cell_type": "code",
   "execution_count": 1,
   "id": "09837f07",
   "metadata": {},
   "outputs": [],
   "source": [
    "import numpy as np\n",
    "import pandas as pd\n",
    "import seaborn as sns\n",
    "from sklearn.model_selection import train_test_split\n",
    "from sklearn import metrics\n",
    "from sklearn.linear_model import LinearRegression\n",
    "from sklearn.linear_model import Lasso\n",
    "import matplotlib.pyplot as plt\n"
   ]
  },
  {
   "cell_type": "code",
   "execution_count": 2,
   "id": "83d1dc06",
   "metadata": {},
   "outputs": [
    {
     "name": "stdout",
     "output_type": "stream",
     "text": [
      "  Car_Name  Year  Selling_Price  Present_Price  Kms_Driven Fuel_Type  \\\n",
      "0     ritz  2014           3.35           5.59       27000    Petrol   \n",
      "1      sx4  2013           4.75           9.54       43000    Diesel   \n",
      "2     ciaz  2017           7.25           9.85        6900    Petrol   \n",
      "3  wagon r  2011           2.85           4.15        5200    Petrol   \n",
      "4    swift  2014           4.60           6.87       42450    Diesel   \n",
      "\n",
      "  Seller_Type Transmission  Owner  \n",
      "0      Dealer       Manual      0  \n",
      "1      Dealer       Manual      0  \n",
      "2      Dealer       Manual      0  \n",
      "3      Dealer       Manual      0  \n",
      "4      Dealer       Manual      0  \n",
      "(301, 9)\n"
     ]
    }
   ],
   "source": [
    "car_data = pd.read_csv(\"C:/Users/MIR FAISAL/Downloads/car data.csv\")\n",
    "print(car_data.head())\n",
    "print(car_data.shape)\n"
   ]
  },
  {
   "cell_type": "code",
   "execution_count": 5,
   "id": "eb7183c1",
   "metadata": {},
   "outputs": [
    {
     "name": "stdout",
     "output_type": "stream",
     "text": [
      "  Car_Name  Year  Selling_Price  Present_Price  Kms_Driven  Fuel_Type  \\\n",
      "0     ritz  2014           3.35           5.59       27000          0   \n",
      "1      sx4  2013           4.75           9.54       43000          1   \n",
      "2     ciaz  2017           7.25           9.85        6900          0   \n",
      "3  wagon r  2011           2.85           4.15        5200          0   \n",
      "4    swift  2014           4.60           6.87       42450          1   \n",
      "\n",
      "   Seller_Type  Transmission  Owner  \n",
      "0            0             0      0  \n",
      "1            0             0      0  \n",
      "2            0             0      0  \n",
      "3            0             0      0  \n",
      "4            0             0      0  \n"
     ]
    }
   ],
   "source": [
    "car_data.replace({'Fuel_Type': {'Petrol': 0, 'Diesel': 1, 'CNG': 2}}, inplace=True)\n",
    "car_data.replace({'Transmission': {'Manual': 0, 'Automatic': 1}}, inplace=True)\n",
    "car_data.replace({'Seller_Type':{'Dealer': 0, 'Individual': 1}}, inplace=True)\n",
    "\n",
    "print(car_data.head())"
   ]
  },
  {
   "cell_type": "code",
   "execution_count": 6,
   "id": "0841c2f6",
   "metadata": {},
   "outputs": [
    {
     "name": "stdout",
     "output_type": "stream",
     "text": [
      "     Year  Present_Price  Kms_Driven  Fuel_Type  Seller_Type  Transmission  \\\n",
      "0    2014           5.59       27000          0            0             0   \n",
      "1    2013           9.54       43000          1            0             0   \n",
      "2    2017           9.85        6900          0            0             0   \n",
      "3    2011           4.15        5200          0            0             0   \n",
      "4    2014           6.87       42450          1            0             0   \n",
      "..    ...            ...         ...        ...          ...           ...   \n",
      "296  2016          11.60       33988          1            0             0   \n",
      "297  2015           5.90       60000          0            0             0   \n",
      "298  2009          11.00       87934          0            0             0   \n",
      "299  2017          12.50        9000          1            0             0   \n",
      "300  2016           5.90        5464          0            0             0   \n",
      "\n",
      "     Owner  \n",
      "0        0  \n",
      "1        0  \n",
      "2        0  \n",
      "3        0  \n",
      "4        0  \n",
      "..     ...  \n",
      "296      0  \n",
      "297      0  \n",
      "298      0  \n",
      "299      0  \n",
      "300      0  \n",
      "\n",
      "[301 rows x 7 columns]\n",
      "0       3.35\n",
      "1       4.75\n",
      "2       7.25\n",
      "3       2.85\n",
      "4       4.60\n",
      "       ...  \n",
      "296     9.50\n",
      "297     4.00\n",
      "298     3.35\n",
      "299    11.50\n",
      "300     5.30\n",
      "Name: Selling_Price, Length: 301, dtype: float64\n"
     ]
    }
   ],
   "source": [
    "X = car_data.drop(['Car_Name', 'Selling_Price'], axis=1)\n",
    "Y = car_data['Selling_Price']\n",
    "print(X)\n",
    "print(Y)"
   ]
  },
  {
   "cell_type": "code",
   "execution_count": 7,
   "id": "5e35c75f",
   "metadata": {},
   "outputs": [],
   "source": [
    "#Training the model\n",
    "X_train, X_test, Y_train, Y_test = train_test_split(X, Y, test_size=0.1, random_state=2)\n",
    "\n",
    "lin_reg = LinearRegression()\n",
    "lin_reg.fit(X_train, Y_train)\n",
    "Data_prediction = lin_reg.predict(X_train)"
   ]
  },
  {
   "cell_type": "code",
   "execution_count": 8,
   "id": "dec01705",
   "metadata": {},
   "outputs": [
    {
     "name": "stdout",
     "output_type": "stream",
     "text": [
      "R squared error:  87.99451660493716 %\n"
     ]
    }
   ],
   "source": [
    "R_error = metrics.r2_score(Y_train, Data_prediction)\n",
    "print(\"R squared error: \", R_error*100,\"%\")"
   ]
  },
  {
   "cell_type": "code",
   "execution_count": 9,
   "id": "568fab8c",
   "metadata": {},
   "outputs": [
    {
     "data": {
      "image/png": "[encoded data removed]",
      "text/plain": [
       "<Figure size 432x288 with 1 Axes>"
      ]
     },
     "metadata": {
      "needs_background": "light"
     },
     "output_type": "display_data"
    }
   ],
   "source": [
    "#visualizing the actual price vs predicted price\n",
    "plt.scatter(Y_train,Data_prediction)\n",
    "plt.xlabel('ACTUAL PRICE')\n",
    "plt.ylabel('PREDICTED PRICE')\n",
    "plt.title('ACTUAL PRICE VS PREDICTED PRICE')\n",
    "plt.show()"
   ]
  },
  {
   "cell_type": "code",
   "execution_count": 10,
   "id": "54756a58",
   "metadata": {},
   "outputs": [
    {
     "name": "stdout",
     "output_type": "stream",
     "text": [
      "R squared error:  83.65766715027156 %\n"
     ]
    }
   ],
   "source": [
    "test_data_prediction = lin_reg.predict(X_test)\n",
    "R_error = metrics.r2_score(Y_test, test_data_prediction)\n",
    "print(\"R squared error: \", R_error*100,\"%\")"
   ]
  },
  {
   "cell_type": "code",
   "execution_count": 11,
   "id": "5339360e",
   "metadata": {},
   "outputs": [
    {
     "data": {
      "image/png": "[encoded data removed]",
      "text/plain": [
       "<Figure size 432x288 with 1 Axes>"
      ]
     },
     "metadata": {
      "needs_background": "light"
     },
     "output_type": "display_data"
    }
   ],
   "source": [
    "plt.scatter(Y_test,test_data_prediction)\n",
    "plt.xlabel('ACTUAL PRICE')\n",
    "plt.ylabel('PREDICTED PRICE')\n",
    "plt.title('ACTUAL PRICE VS PREDICTED PRICE')\n",
    "plt.show()"
   ]
  },
  {
   "cell_type": "code",
   "execution_count": 12,
   "id": "64d81cbe",
   "metadata": {},
   "outputs": [],
   "source": [
    "#Using Lasso Regression\n",
    "lass_reg = Lasso()\n",
    "lass_reg.fit(X_train,Y_train)\n",
    "lasso_reg_prediction = lass_reg.predict(X_train)"
   ]
  },
  {
   "cell_type": "code",
   "execution_count": 13,
   "id": "df0cbcca",
   "metadata": {},
   "outputs": [
    {
     "name": "stdout",
     "output_type": "stream",
     "text": [
      "R squared error for lasso (training data):  84.27856123435794 %\n"
     ]
    }
   ],
   "source": [
    "#Calculating Error for lasso\n",
    "R_error = metrics.r2_score(Y_train, lasso_reg_prediction)\n",
    "print(\"R squared error for lasso (training data): \", R_error*100,\"%\")"
   ]
  },
  {
   "cell_type": "code",
   "execution_count": 14,
   "id": "6bec6035",
   "metadata": {},
   "outputs": [
    {
     "data": {
      "image/png": "[encoded data removed]",
      "text/plain": [
       "<Figure size 432x288 with 1 Axes>"
      ]
     },
     "metadata": {
      "needs_background": "light"
     },
     "output_type": "display_data"
    }
   ],
   "source": [
    "#Visualizing the training data for lasso regression\n",
    "plt.scatter(Y_train,lasso_reg_prediction)\n",
    "plt.xlabel('ACTUAL PRICE')\n",
    "plt.ylabel('PREDICTED PRICE')\n",
    "plt.title('ACTUAL PRICE VS PREDICTED PRICE')\n",
    "plt.show()\n"
   ]
  },
  {
   "cell_type": "code",
   "execution_count": null,
   "id": "9eaa85f4",
   "metadata": {},
   "outputs": [],
   "source": []
  }
 ],
 "metadata": {
  "kernelspec": {
   "display_name": "Python 3 (ipykernel)",
   "language": "python",
   "name": "python3"
  },
  "language_info": {
   "codemirror_mode": {
    "name": "ipython",
    "version": 3
   },
   "file_extension": ".py",
   "mimetype": "text/x-python",
   "name": "python",
   "nbconvert_exporter": "python",
   "pygments_lexer": "ipython3",
   "version": "3.9.12"
  }
 },
 "nbformat": 4,
 "nbformat_minor": 5
}
